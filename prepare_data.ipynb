{
 "cells": [
  {
   "cell_type": "code",
   "execution_count": 1,
   "metadata": {
    "collapsed": true
   },
   "outputs": [],
   "source": [
    "import pandas as pd\n",
    "from utils import *\n"
   ]
  },
  {
   "cell_type": "code",
   "execution_count": null,
   "metadata": {},
   "outputs": [],
   "source": []
  },
  {
   "cell_type": "code",
   "execution_count": 2,
   "metadata": {
    "collapsed": false
   },
   "outputs": [
    {
     "output_type": "stream",
     "name": "stdout",
     "text": [
      "(1000, 20) (1000,)\n"
     ]
    }
   ],
   "source": [
    "## Synthetic data\n",
    "X, y = make_classification(n_classes=2, class_sep=2, weights=[0.1, 0.9],\n",
    "\tn_informative=3, n_redundant=1, flip_y=0,\n",
    "\tn_features=20, n_clusters_per_class=1,\n",
    "\tn_samples=1000, random_state=10)\n",
    "print X.shape, y.shape"
   ]
  },
  {
   "cell_type": "code",
   "execution_count": null,
   "metadata": {},
   "outputs": [],
   "source": []
  },
  {
   "cell_type": "code",
   "execution_count": 3,
   "metadata": {
    "collapsed": false
   },
   "outputs": [
    {
     "output_type": "error",
     "ename": "IOError",
     "evalue": "[Errno 2] File datasets/Titanic/train.csv does not exist: 'datasets/Titanic/train.csv'",
     "traceback": [
      "\u001b[0;31m\u001b[0m",
      "\u001b[0;31mIOError\u001b[0mTraceback (most recent call last)",
      "\u001b[0;32m<ipython-input-3-2ba37adb511c>\u001b[0m in \u001b[0;36m<module>\u001b[0;34m()\u001b[0m\n\u001b[1;32m      1\u001b[0m \u001b[0;31m## Load Titanic\u001b[0m\u001b[0;34m\u001b[0m\u001b[0;34m\u001b[0m\u001b[0m\n\u001b[0;32m----> 2\u001b[0;31m \u001b[0mtitanic\u001b[0m \u001b[0;34m=\u001b[0m \u001b[0mpd\u001b[0m\u001b[0;34m.\u001b[0m\u001b[0mread_csv\u001b[0m\u001b[0;34m(\u001b[0m\u001b[0;34m'datasets/Titanic/train.csv'\u001b[0m\u001b[0;34m)\u001b[0m\u001b[0;34m\u001b[0m\u001b[0m\n\u001b[0m\u001b[1;32m      3\u001b[0m \u001b[0;32mprint\u001b[0m \u001b[0mtitanic\u001b[0m\u001b[0;34m.\u001b[0m\u001b[0mshape\u001b[0m\u001b[0;34m\u001b[0m\u001b[0m\n\u001b[1;32m      4\u001b[0m \u001b[0mtitanic\u001b[0m\u001b[0;34m.\u001b[0m\u001b[0mhead\u001b[0m\u001b[0;34m(\u001b[0m\u001b[0;34m)\u001b[0m\u001b[0;34m\u001b[0m\u001b[0m\n",
      "\u001b[0;32m/home/anvy/Others/Projects/class_imbalance/venv/lib/python2.7/site-packages/pandas/io/parsers.pyc\u001b[0m in \u001b[0;36mparser_f\u001b[0;34m(filepath_or_buffer, sep, delimiter, header, names, index_col, usecols, squeeze, prefix, mangle_dupe_cols, dtype, engine, converters, true_values, false_values, skipinitialspace, skiprows, skipfooter, nrows, na_values, keep_default_na, na_filter, verbose, skip_blank_lines, parse_dates, infer_datetime_format, keep_date_col, date_parser, dayfirst, iterator, chunksize, compression, thousands, decimal, lineterminator, quotechar, quoting, doublequote, escapechar, comment, encoding, dialect, tupleize_cols, error_bad_lines, warn_bad_lines, delim_whitespace, low_memory, memory_map, float_precision)\u001b[0m\n\u001b[1;32m    700\u001b[0m                     skip_blank_lines=skip_blank_lines)\n\u001b[1;32m    701\u001b[0m \u001b[0;34m\u001b[0m\u001b[0m\n\u001b[0;32m--> 702\u001b[0;31m         \u001b[0;32mreturn\u001b[0m \u001b[0m_read\u001b[0m\u001b[0;34m(\u001b[0m\u001b[0mfilepath_or_buffer\u001b[0m\u001b[0;34m,\u001b[0m \u001b[0mkwds\u001b[0m\u001b[0;34m)\u001b[0m\u001b[0;34m\u001b[0m\u001b[0m\n\u001b[0m\u001b[1;32m    703\u001b[0m \u001b[0;34m\u001b[0m\u001b[0m\n\u001b[1;32m    704\u001b[0m     \u001b[0mparser_f\u001b[0m\u001b[0;34m.\u001b[0m\u001b[0m__name__\u001b[0m \u001b[0;34m=\u001b[0m \u001b[0mname\u001b[0m\u001b[0;34m\u001b[0m\u001b[0m\n",
      "\u001b[0;32m/home/anvy/Others/Projects/class_imbalance/venv/lib/python2.7/site-packages/pandas/io/parsers.pyc\u001b[0m in \u001b[0;36m_read\u001b[0;34m(filepath_or_buffer, kwds)\u001b[0m\n\u001b[1;32m    427\u001b[0m \u001b[0;34m\u001b[0m\u001b[0m\n\u001b[1;32m    428\u001b[0m     \u001b[0;31m# Create the parser.\u001b[0m\u001b[0;34m\u001b[0m\u001b[0;34m\u001b[0m\u001b[0m\n\u001b[0;32m--> 429\u001b[0;31m     \u001b[0mparser\u001b[0m \u001b[0;34m=\u001b[0m \u001b[0mTextFileReader\u001b[0m\u001b[0;34m(\u001b[0m\u001b[0mfilepath_or_buffer\u001b[0m\u001b[0;34m,\u001b[0m \u001b[0;34m**\u001b[0m\u001b[0mkwds\u001b[0m\u001b[0;34m)\u001b[0m\u001b[0;34m\u001b[0m\u001b[0m\n\u001b[0m\u001b[1;32m    430\u001b[0m \u001b[0;34m\u001b[0m\u001b[0m\n\u001b[1;32m    431\u001b[0m     \u001b[0;32mif\u001b[0m \u001b[0mchunksize\u001b[0m \u001b[0;32mor\u001b[0m \u001b[0miterator\u001b[0m\u001b[0;34m:\u001b[0m\u001b[0;34m\u001b[0m\u001b[0m\n",
      "\u001b[0;32m/home/anvy/Others/Projects/class_imbalance/venv/lib/python2.7/site-packages/pandas/io/parsers.pyc\u001b[0m in \u001b[0;36m__init__\u001b[0;34m(self, f, engine, **kwds)\u001b[0m\n\u001b[1;32m    893\u001b[0m             \u001b[0mself\u001b[0m\u001b[0;34m.\u001b[0m\u001b[0moptions\u001b[0m\u001b[0;34m[\u001b[0m\u001b[0;34m'has_index_names'\u001b[0m\u001b[0;34m]\u001b[0m \u001b[0;34m=\u001b[0m \u001b[0mkwds\u001b[0m\u001b[0;34m[\u001b[0m\u001b[0;34m'has_index_names'\u001b[0m\u001b[0;34m]\u001b[0m\u001b[0;34m\u001b[0m\u001b[0m\n\u001b[1;32m    894\u001b[0m \u001b[0;34m\u001b[0m\u001b[0m\n\u001b[0;32m--> 895\u001b[0;31m         \u001b[0mself\u001b[0m\u001b[0;34m.\u001b[0m\u001b[0m_make_engine\u001b[0m\u001b[0;34m(\u001b[0m\u001b[0mself\u001b[0m\u001b[0;34m.\u001b[0m\u001b[0mengine\u001b[0m\u001b[0;34m)\u001b[0m\u001b[0;34m\u001b[0m\u001b[0m\n\u001b[0m\u001b[1;32m    896\u001b[0m \u001b[0;34m\u001b[0m\u001b[0m\n\u001b[1;32m    897\u001b[0m     \u001b[0;32mdef\u001b[0m \u001b[0mclose\u001b[0m\u001b[0;34m(\u001b[0m\u001b[0mself\u001b[0m\u001b[0;34m)\u001b[0m\u001b[0;34m:\u001b[0m\u001b[0;34m\u001b[0m\u001b[0m\n",
      "\u001b[0;32m/home/anvy/Others/Projects/class_imbalance/venv/lib/python2.7/site-packages/pandas/io/parsers.pyc\u001b[0m in \u001b[0;36m_make_engine\u001b[0;34m(self, engine)\u001b[0m\n\u001b[1;32m   1120\u001b[0m     \u001b[0;32mdef\u001b[0m \u001b[0m_make_engine\u001b[0m\u001b[0;34m(\u001b[0m\u001b[0mself\u001b[0m\u001b[0;34m,\u001b[0m \u001b[0mengine\u001b[0m\u001b[0;34m=\u001b[0m\u001b[0;34m'c'\u001b[0m\u001b[0;34m)\u001b[0m\u001b[0;34m:\u001b[0m\u001b[0;34m\u001b[0m\u001b[0m\n\u001b[1;32m   1121\u001b[0m         \u001b[0;32mif\u001b[0m \u001b[0mengine\u001b[0m \u001b[0;34m==\u001b[0m \u001b[0;34m'c'\u001b[0m\u001b[0;34m:\u001b[0m\u001b[0;34m\u001b[0m\u001b[0m\n\u001b[0;32m-> 1122\u001b[0;31m             \u001b[0mself\u001b[0m\u001b[0;34m.\u001b[0m\u001b[0m_engine\u001b[0m \u001b[0;34m=\u001b[0m \u001b[0mCParserWrapper\u001b[0m\u001b[0;34m(\u001b[0m\u001b[0mself\u001b[0m\u001b[0;34m.\u001b[0m\u001b[0mf\u001b[0m\u001b[0;34m,\u001b[0m \u001b[0;34m**\u001b[0m\u001b[0mself\u001b[0m\u001b[0;34m.\u001b[0m\u001b[0moptions\u001b[0m\u001b[0;34m)\u001b[0m\u001b[0;34m\u001b[0m\u001b[0m\n\u001b[0m\u001b[1;32m   1123\u001b[0m         \u001b[0;32melse\u001b[0m\u001b[0;34m:\u001b[0m\u001b[0;34m\u001b[0m\u001b[0m\n\u001b[1;32m   1124\u001b[0m             \u001b[0;32mif\u001b[0m \u001b[0mengine\u001b[0m \u001b[0;34m==\u001b[0m \u001b[0;34m'python'\u001b[0m\u001b[0;34m:\u001b[0m\u001b[0;34m\u001b[0m\u001b[0m\n",
      "\u001b[0;32m/home/anvy/Others/Projects/class_imbalance/venv/lib/python2.7/site-packages/pandas/io/parsers.pyc\u001b[0m in \u001b[0;36m__init__\u001b[0;34m(self, src, **kwds)\u001b[0m\n\u001b[1;32m   1851\u001b[0m         \u001b[0mkwds\u001b[0m\u001b[0;34m[\u001b[0m\u001b[0;34m'usecols'\u001b[0m\u001b[0;34m]\u001b[0m \u001b[0;34m=\u001b[0m \u001b[0mself\u001b[0m\u001b[0;34m.\u001b[0m\u001b[0musecols\u001b[0m\u001b[0;34m\u001b[0m\u001b[0m\n\u001b[1;32m   1852\u001b[0m \u001b[0;34m\u001b[0m\u001b[0m\n\u001b[0;32m-> 1853\u001b[0;31m         \u001b[0mself\u001b[0m\u001b[0;34m.\u001b[0m\u001b[0m_reader\u001b[0m \u001b[0;34m=\u001b[0m \u001b[0mparsers\u001b[0m\u001b[0;34m.\u001b[0m\u001b[0mTextReader\u001b[0m\u001b[0;34m(\u001b[0m\u001b[0msrc\u001b[0m\u001b[0;34m,\u001b[0m \u001b[0;34m**\u001b[0m\u001b[0mkwds\u001b[0m\u001b[0;34m)\u001b[0m\u001b[0;34m\u001b[0m\u001b[0m\n\u001b[0m\u001b[1;32m   1854\u001b[0m         \u001b[0mself\u001b[0m\u001b[0;34m.\u001b[0m\u001b[0munnamed_cols\u001b[0m \u001b[0;34m=\u001b[0m \u001b[0mself\u001b[0m\u001b[0;34m.\u001b[0m\u001b[0m_reader\u001b[0m\u001b[0;34m.\u001b[0m\u001b[0munnamed_cols\u001b[0m\u001b[0;34m\u001b[0m\u001b[0m\n\u001b[1;32m   1855\u001b[0m \u001b[0;34m\u001b[0m\u001b[0m\n",
      "\u001b[0;32mpandas/_libs/parsers.pyx\u001b[0m in \u001b[0;36mpandas._libs.parsers.TextReader.__cinit__\u001b[0;34m()\u001b[0m\n",
      "\u001b[0;32mpandas/_libs/parsers.pyx\u001b[0m in \u001b[0;36mpandas._libs.parsers.TextReader._setup_parser_source\u001b[0;34m()\u001b[0m\n",
      "\u001b[0;31mIOError\u001b[0m: [Errno 2] File datasets/Titanic/train.csv does not exist: 'datasets/Titanic/train.csv'"
     ]
    }
   ],
   "source": [
    "## Load Titanic\n",
    "titanic = pd.read_csv('datasets/Titanic/train.csv')\n",
    "print titanic.shape\n",
    "titanic.head()\n"
   ]
  },
  {
   "cell_type": "code",
   "execution_count": null,
   "metadata": {},
   "outputs": [],
   "source": []
  },
  {
   "cell_type": "code",
   "execution_count": 4,
   "metadata": {
    "collapsed": false
   },
   "outputs": [
    {
     "name": "stdout",
     "output_type": "stream",
     "text": [
      "342\n",
      "0.383838383838\n"
     ]
    }
   ],
   "source": [
    "## Examine class ratio\n",
    "print titanic['Survived'].sum()\n",
    "print titanic['Survived'].sum()/float(titanic.shape[0])"
   ]
  },
  {
   "cell_type": "code",
   "execution_count": 5,
   "metadata": {
    "collapsed": false
   },
   "outputs": [
    {
     "name": "stdout",
     "output_type": "stream",
     "text": [
      "(891, 8) (891,)\n"
     ]
    },
    {
     "name": "stderr",
     "output_type": "stream",
     "text": [
      "/Library/Python/2.7/site-packages/numpy-1.10.4-py2.7-macosx-10.10-intel.egg/numpy/lib/arraysetops.py:200: FutureWarning: numpy not_equal will not check object identity in the future. The comparison did not return the same result as suggested by the identity (`is`)) and will change.\n",
      "  flag = np.concatenate(([True], aux[1:] != aux[:-1]))\n"
     ]
    }
   ],
   "source": [
    "## Process features\n",
    "from sklearn.preprocessing import LabelEncoder\n",
    "le = LabelEncoder()\n",
    "for col in ['Sex', 'Cabin', 'Embarked']:\n",
    "    titanic[col] = le.fit_transform(titanic[col])\n",
    "\n",
    "## Split df into X and y and convert to numpy.array\n",
    "X = titanic.drop(['PassengerId', 'Survived', 'Name', 'Ticket'], axis=1).values\n",
    "y = titanic['Survived'].values\n",
    "print X.shape, y.shape"
   ]
  },
  {
   "cell_type": "code",
   "execution_count": null,
   "metadata": {
    "collapsed": true
   },
   "outputs": [],
   "source": []
  },
  {
   "cell_type": "code",
   "execution_count": 6,
   "metadata": {
    "collapsed": false
   },
   "outputs": [
    {
     "name": "stdout",
     "output_type": "stream",
     "text": [
      "(198, 35)\n"
     ]
    },
    {
     "data": {
      "text/html": [
       "<div style=\"max-height:1000px;max-width:1500px;overflow:auto;\">\n",
       "<table border=\"1\" class=\"dataframe\">\n",
       "  <thead>\n",
       "    <tr style=\"text-align: right;\">\n",
       "      <th></th>\n",
       "      <th>ID</th>\n",
       "      <th>outcome</th>\n",
       "      <th>Attr0</th>\n",
       "      <th>Attr1</th>\n",
       "      <th>Attr2</th>\n",
       "      <th>Attr3</th>\n",
       "      <th>Attr4</th>\n",
       "      <th>Attr5</th>\n",
       "      <th>Attr6</th>\n",
       "      <th>Attr7</th>\n",
       "      <th>...</th>\n",
       "      <th>Attr23</th>\n",
       "      <th>Attr24</th>\n",
       "      <th>Attr25</th>\n",
       "      <th>Attr26</th>\n",
       "      <th>Attr27</th>\n",
       "      <th>Attr28</th>\n",
       "      <th>Attr29</th>\n",
       "      <th>Attr30</th>\n",
       "      <th>Attr31</th>\n",
       "      <th>Attr32</th>\n",
       "    </tr>\n",
       "  </thead>\n",
       "  <tbody>\n",
       "    <tr>\n",
       "      <th>0</th>\n",
       "      <td>119513</td>\n",
       "      <td>N</td>\n",
       "      <td>31</td>\n",
       "      <td>18.02</td>\n",
       "      <td>27.60</td>\n",
       "      <td>117.50</td>\n",
       "      <td>1013.0</td>\n",
       "      <td>0.09489</td>\n",
       "      <td>0.1036</td>\n",
       "      <td>0.1086</td>\n",
       "      <td>...</td>\n",
       "      <td>139.70</td>\n",
       "      <td>1436.0</td>\n",
       "      <td>0.1195</td>\n",
       "      <td>0.1926</td>\n",
       "      <td>0.3140</td>\n",
       "      <td>0.1170</td>\n",
       "      <td>0.2677</td>\n",
       "      <td>0.08113</td>\n",
       "      <td>5.0</td>\n",
       "      <td>5</td>\n",
       "    </tr>\n",
       "    <tr>\n",
       "      <th>1</th>\n",
       "      <td>8423</td>\n",
       "      <td>N</td>\n",
       "      <td>61</td>\n",
       "      <td>17.99</td>\n",
       "      <td>10.38</td>\n",
       "      <td>122.80</td>\n",
       "      <td>1001.0</td>\n",
       "      <td>0.11840</td>\n",
       "      <td>0.2776</td>\n",
       "      <td>0.3001</td>\n",
       "      <td>...</td>\n",
       "      <td>184.60</td>\n",
       "      <td>2019.0</td>\n",
       "      <td>0.1622</td>\n",
       "      <td>0.6656</td>\n",
       "      <td>0.7119</td>\n",
       "      <td>0.2654</td>\n",
       "      <td>0.4601</td>\n",
       "      <td>0.11890</td>\n",
       "      <td>3.0</td>\n",
       "      <td>2</td>\n",
       "    </tr>\n",
       "    <tr>\n",
       "      <th>2</th>\n",
       "      <td>842517</td>\n",
       "      <td>N</td>\n",
       "      <td>116</td>\n",
       "      <td>21.37</td>\n",
       "      <td>17.44</td>\n",
       "      <td>137.50</td>\n",
       "      <td>1373.0</td>\n",
       "      <td>0.08836</td>\n",
       "      <td>0.1189</td>\n",
       "      <td>0.1255</td>\n",
       "      <td>...</td>\n",
       "      <td>159.10</td>\n",
       "      <td>1949.0</td>\n",
       "      <td>0.1188</td>\n",
       "      <td>0.3449</td>\n",
       "      <td>0.3414</td>\n",
       "      <td>0.2032</td>\n",
       "      <td>0.4334</td>\n",
       "      <td>0.09067</td>\n",
       "      <td>2.5</td>\n",
       "      <td>0</td>\n",
       "    </tr>\n",
       "    <tr>\n",
       "      <th>3</th>\n",
       "      <td>843483</td>\n",
       "      <td>N</td>\n",
       "      <td>123</td>\n",
       "      <td>11.42</td>\n",
       "      <td>20.38</td>\n",
       "      <td>77.58</td>\n",
       "      <td>386.1</td>\n",
       "      <td>0.14250</td>\n",
       "      <td>0.2839</td>\n",
       "      <td>0.2414</td>\n",
       "      <td>...</td>\n",
       "      <td>98.87</td>\n",
       "      <td>567.7</td>\n",
       "      <td>0.2098</td>\n",
       "      <td>0.8663</td>\n",
       "      <td>0.6869</td>\n",
       "      <td>0.2575</td>\n",
       "      <td>0.6638</td>\n",
       "      <td>0.17300</td>\n",
       "      <td>2.0</td>\n",
       "      <td>0</td>\n",
       "    </tr>\n",
       "    <tr>\n",
       "      <th>4</th>\n",
       "      <td>843584</td>\n",
       "      <td>R</td>\n",
       "      <td>27</td>\n",
       "      <td>20.29</td>\n",
       "      <td>14.34</td>\n",
       "      <td>135.10</td>\n",
       "      <td>1297.0</td>\n",
       "      <td>0.10030</td>\n",
       "      <td>0.1328</td>\n",
       "      <td>0.1980</td>\n",
       "      <td>...</td>\n",
       "      <td>152.20</td>\n",
       "      <td>1575.0</td>\n",
       "      <td>0.1374</td>\n",
       "      <td>0.2050</td>\n",
       "      <td>0.4000</td>\n",
       "      <td>0.1625</td>\n",
       "      <td>0.2364</td>\n",
       "      <td>0.07678</td>\n",
       "      <td>3.5</td>\n",
       "      <td>0</td>\n",
       "    </tr>\n",
       "  </tbody>\n",
       "</table>\n",
       "<p>5 rows × 35 columns</p>\n",
       "</div>"
      ],
      "text/plain": [
       "       ID outcome  Attr0  Attr1  Attr2   Attr3   Attr4    Attr5   Attr6  \\\n",
       "0  119513       N     31  18.02  27.60  117.50  1013.0  0.09489  0.1036   \n",
       "1    8423       N     61  17.99  10.38  122.80  1001.0  0.11840  0.2776   \n",
       "2  842517       N    116  21.37  17.44  137.50  1373.0  0.08836  0.1189   \n",
       "3  843483       N    123  11.42  20.38   77.58   386.1  0.14250  0.2839   \n",
       "4  843584       R     27  20.29  14.34  135.10  1297.0  0.10030  0.1328   \n",
       "\n",
       "    Attr7   ...    Attr23  Attr24  Attr25  Attr26  Attr27  Attr28  Attr29  \\\n",
       "0  0.1086   ...    139.70  1436.0  0.1195  0.1926  0.3140  0.1170  0.2677   \n",
       "1  0.3001   ...    184.60  2019.0  0.1622  0.6656  0.7119  0.2654  0.4601   \n",
       "2  0.1255   ...    159.10  1949.0  0.1188  0.3449  0.3414  0.2032  0.4334   \n",
       "3  0.2414   ...     98.87   567.7  0.2098  0.8663  0.6869  0.2575  0.6638   \n",
       "4  0.1980   ...    152.20  1575.0  0.1374  0.2050  0.4000  0.1625  0.2364   \n",
       "\n",
       "    Attr30  Attr31  Attr32  \n",
       "0  0.08113     5.0       5  \n",
       "1  0.11890     3.0       2  \n",
       "2  0.09067     2.5       0  \n",
       "3  0.17300     2.0       0  \n",
       "4  0.07678     3.5       0  \n",
       "\n",
       "[5 rows x 35 columns]"
      ]
     },
     "execution_count": 6,
     "metadata": {},
     "output_type": "execute_result"
    }
   ],
   "source": [
    "## Load breast cancer data\n",
    "bc = pd.read_csv('datasets/wpbc.data', \n",
    "                    names=['ID', 'outcome'] + ['Attr%s'%i for i in range(33)])\n",
    "print bc.shape\n",
    "bc.head()"
   ]
  },
  {
   "cell_type": "code",
   "execution_count": 7,
   "metadata": {
    "collapsed": false
   },
   "outputs": [
    {
     "name": "stdout",
     "output_type": "stream",
     "text": [
      "N    151\n",
      "R     47\n",
      "dtype: int64\n"
     ]
    }
   ],
   "source": [
    "print bc['outcome'].value_counts()"
   ]
  },
  {
   "cell_type": "code",
   "execution_count": 32,
   "metadata": {
    "collapsed": false
   },
   "outputs": [
    {
     "name": "stdout",
     "output_type": "stream",
     "text": [
      "(198, 33) (198,)\n",
      "0.237373737374\n"
     ]
    }
   ],
   "source": [
    "## Split df into X and y and convert to numpy.array\n",
    "X = bc.drop(['ID', 'outcome'], axis=1)\n",
    "y = bc['outcome'].map({'N':0, 'R':1})\n",
    "\n",
    "X = X.values\n",
    "y = y.values\n",
    "\n",
    "print X.shape, y.shape\n",
    "print y.sum()/float(y.shape[0])"
   ]
  },
  {
   "cell_type": "code",
   "execution_count": 4,
   "metadata": {
    "collapsed": false
   },
   "outputs": [
    {
     "output_type": "stream",
     "name": "stdout",
     "text": [
      "(2776, 56)\n"
     ]
    },
    {
     "output_type": "execute_result",
     "data": {
      "text/html": "<div>\n<style scoped>\n    .dataframe tbody tr th:only-of-type {\n        vertical-align: middle;\n    }\n\n    .dataframe tbody tr th {\n        vertical-align: top;\n    }\n\n    .dataframe thead th {\n        text-align: right;\n    }\n</style>\n<table border=\"1\" class=\"dataframe\">\n  <thead>\n    <tr style=\"text-align: right;\">\n      <th></th>\n      <th>GeneSym</th>\n      <th>UniprotAcc</th>\n      <th>GeneID/Brenda Tissue Ontology BTO:</th>\n      <th>38</th>\n      <th>675</th>\n      <th>1615</th>\n      <th>568</th>\n      <th>2806</th>\n      <th>1938</th>\n      <th>18</th>\n      <th>...</th>\n      <th>1158</th>\n      <th>1363</th>\n      <th>1078</th>\n      <th>763</th>\n      <th>2553</th>\n      <th>1129</th>\n      <th>776</th>\n      <th>289</th>\n      <th>2417</th>\n      <th>914</th>\n    </tr>\n  </thead>\n  <tbody>\n    <tr>\n      <th>0</th>\n      <td>LOC102724985</td>\n      <td>Q6P996</td>\n      <td>102724985</td>\n      <td>5.017355</td>\n      <td>4.830592</td>\n      <td>5.783336</td>\n      <td>5.049440</td>\n      <td>4.858041</td>\n      <td>4.605708</td>\n      <td>4.868083</td>\n      <td>...</td>\n      <td>5.395317</td>\n      <td>4.734884</td>\n      <td>4.835634</td>\n      <td>4.659831</td>\n      <td>4.643150</td>\n      <td>4.376222</td>\n      <td>4.026439</td>\n      <td>4.659961</td>\n      <td>3.929821</td>\n      <td>4.854218</td>\n    </tr>\n    <tr>\n      <th>1</th>\n      <td>PDXDC1</td>\n      <td>H3BU11</td>\n      <td>23042</td>\n      <td>4.744159</td>\n      <td>4.601433</td>\n      <td>5.267198</td>\n      <td>4.741168</td>\n      <td>4.571314</td>\n      <td>4.518610</td>\n      <td>4.565993</td>\n      <td>...</td>\n      <td>4.894014</td>\n      <td>4.403376</td>\n      <td>4.440597</td>\n      <td>4.472297</td>\n      <td>4.479050</td>\n      <td>4.216782</td>\n      <td>3.893532</td>\n      <td>4.520178</td>\n      <td>3.725262</td>\n      <td>4.458436</td>\n    </tr>\n    <tr>\n      <th>2</th>\n      <td>COG5</td>\n      <td>Q9UP83</td>\n      <td>10466</td>\n      <td>4.213385</td>\n      <td>4.213385</td>\n      <td>5.759206</td>\n      <td>4.528063</td>\n      <td>4.035077</td>\n      <td>4.359530</td>\n      <td>4.309750</td>\n      <td>...</td>\n      <td>4.634878</td>\n      <td>4.799939</td>\n      <td>4.510710</td>\n      <td>4.048240</td>\n      <td>3.924763</td>\n      <td>4.041728</td>\n      <td>4.135629</td>\n      <td>4.715816</td>\n      <td>4.092942</td>\n      <td>4.545271</td>\n    </tr>\n    <tr>\n      <th>3</th>\n      <td>HEXA</td>\n      <td>H3BU85</td>\n      <td>3073</td>\n      <td>4.535638</td>\n      <td>4.740634</td>\n      <td>5.118528</td>\n      <td>4.181380</td>\n      <td>4.731774</td>\n      <td>4.665979</td>\n      <td>4.865457</td>\n      <td>...</td>\n      <td>4.708274</td>\n      <td>4.937703</td>\n      <td>4.598400</td>\n      <td>5.290727</td>\n      <td>5.423842</td>\n      <td>4.154158</td>\n      <td>3.857923</td>\n      <td>5.115823</td>\n      <td>4.369458</td>\n      <td>5.008221</td>\n    </tr>\n    <tr>\n      <th>4</th>\n      <td>HEXB</td>\n      <td>H0Y9B6</td>\n      <td>3074</td>\n      <td>4.605520</td>\n      <td>4.591239</td>\n      <td>6.294882</td>\n      <td>4.139686</td>\n      <td>5.471996</td>\n      <td>4.442832</td>\n      <td>5.214406</td>\n      <td>...</td>\n      <td>5.139610</td>\n      <td>4.979131</td>\n      <td>5.654624</td>\n      <td>5.278758</td>\n      <td>5.283525</td>\n      <td>4.972013</td>\n      <td>4.536124</td>\n      <td>5.388605</td>\n      <td>4.576318</td>\n      <td>5.425797</td>\n    </tr>\n  </tbody>\n</table>\n<p>5 rows × 56 columns</p>\n</div>",
      "text/plain": [
       "        GeneSym UniprotAcc  GeneID/Brenda Tissue Ontology BTO:        38  \\\n",
       "0  LOC102724985     Q6P996                           102724985  5.017355   \n",
       "1        PDXDC1     H3BU11                               23042  4.744159   \n",
       "2          COG5     Q9UP83                               10466  4.213385   \n",
       "3          HEXA     H3BU85                                3073  4.535638   \n",
       "4          HEXB     H0Y9B6                                3074  4.605520   \n",
       "\n",
       "        675      1615       568      2806      1938        18  ...      1158  \\\n",
       "0  4.830592  5.783336  5.049440  4.858041  4.605708  4.868083  ...  5.395317   \n",
       "1  4.601433  5.267198  4.741168  4.571314  4.518610  4.565993  ...  4.894014   \n",
       "2  4.213385  5.759206  4.528063  4.035077  4.359530  4.309750  ...  4.634878   \n",
       "3  4.740634  5.118528  4.181380  4.731774  4.665979  4.865457  ...  4.708274   \n",
       "4  4.591239  6.294882  4.139686  5.471996  4.442832  5.214406  ...  5.139610   \n",
       "\n",
       "       1363      1078       763      2553      1129       776       289  \\\n",
       "0  4.734884  4.835634  4.659831  4.643150  4.376222  4.026439  4.659961   \n",
       "1  4.403376  4.440597  4.472297  4.479050  4.216782  3.893532  4.520178   \n",
       "2  4.799939  4.510710  4.048240  3.924763  4.041728  4.135629  4.715816   \n",
       "3  4.937703  4.598400  5.290727  5.423842  4.154158  3.857923  5.115823   \n",
       "4  4.979131  5.654624  5.278758  5.283525  4.972013  4.536124  5.388605   \n",
       "\n",
       "       2417       914  \n",
       "0  3.929821  4.854218  \n",
       "1  3.725262  4.458436  \n",
       "2  4.092942  4.545271  \n",
       "3  4.369458  5.008221  \n",
       "4  4.576318  5.425797  \n",
       "\n",
       "[5 rows x 56 columns]"
      ]
     },
     "metadata": {},
     "execution_count": 4
    }
   ],
   "source": [
    "## Load ProteomicsDB data\n",
    "proteome = pd.read_csv('datasets/Harmonizome/gene_attribute_matrix_cleaned.txt.gz', \n",
    "                       sep='\\t', compression='gzip', skiprows=2)\n",
    "print proteome.shape\n",
    "proteome.head()"
   ]
  },
  {
   "cell_type": "code",
   "execution_count": null,
   "metadata": {},
   "outputs": [],
   "source": []
  },
  {
   "cell_type": "code",
   "execution_count": 7,
   "metadata": {
    "collapsed": false
   },
   "outputs": [
    {
     "output_type": "stream",
     "name": "stdout",
     "text": [
      "(29010, 13)\n"
     ]
    },
    {
     "output_type": "execute_result",
     "data": {
      "text/html": "<div>\n<style scoped>\n    .dataframe tbody tr th:only-of-type {\n        vertical-align: middle;\n    }\n\n    .dataframe tbody tr th {\n        vertical-align: top;\n    }\n\n    .dataframe thead th {\n        text-align: right;\n    }\n</style>\n<table border=\"1\" class=\"dataframe\">\n  <thead>\n    <tr style=\"text-align: right;\">\n      <th></th>\n      <th>HGNC ID</th>\n      <th>Approved symbol</th>\n      <th>Approved name</th>\n      <th>Status</th>\n      <th>Locus type</th>\n      <th>Previous symbols</th>\n      <th>Alias symbols</th>\n      <th>Chromosome</th>\n      <th>NCBI Gene ID</th>\n      <th>Ensembl gene ID</th>\n      <th>Vega gene ID</th>\n      <th>Group ID</th>\n      <th>Group name</th>\n    </tr>\n  </thead>\n  <tbody>\n    <tr>\n      <th>0</th>\n      <td>HGNC:324</td>\n      <td>AGPAT1</td>\n      <td>1-acylglycerol-3-phosphate O-acyltransferase 1</td>\n      <td>Approved</td>\n      <td>gene with protein product</td>\n      <td>NaN</td>\n      <td>LPAAT-alpha</td>\n      <td>6p21.32</td>\n      <td>10554.0</td>\n      <td>ENSG00000204310</td>\n      <td>OTTHUMG00000031210</td>\n      <td>46</td>\n      <td>1-acylglycerol-3-phosphate O-acyltransferases</td>\n    </tr>\n    <tr>\n      <th>1</th>\n      <td>HGNC:25718</td>\n      <td>LPCAT1</td>\n      <td>lysophosphatidylcholine acyltransferase 1</td>\n      <td>Approved</td>\n      <td>gene with protein product</td>\n      <td>AYTL2</td>\n      <td>FLJ12443, AGPAT9, AGPAT10</td>\n      <td>5p15.33</td>\n      <td>79888.0</td>\n      <td>ENSG00000153395</td>\n      <td>OTTHUMG00000131017</td>\n      <td>46</td>\n      <td>1-acylglycerol-3-phosphate O-acyltransferases</td>\n    </tr>\n    <tr>\n      <th>2</th>\n      <td>HGNC:26032</td>\n      <td>LPCAT2</td>\n      <td>lysophosphatidylcholine acyltransferase 2</td>\n      <td>Approved</td>\n      <td>gene with protein product</td>\n      <td>AYTL1</td>\n      <td>FLJ20481, AGPAT11, LysoPAFAT</td>\n      <td>16q12.2</td>\n      <td>54947.0</td>\n      <td>ENSG00000087253</td>\n      <td>OTTHUMG00000133238</td>\n      <td>46</td>\n      <td>1-acylglycerol-3-phosphate O-acyltransferases</td>\n    </tr>\n    <tr>\n      <th>3</th>\n      <td>HGNC:325</td>\n      <td>AGPAT2</td>\n      <td>1-acylglycerol-3-phosphate O-acyltransferase 2</td>\n      <td>Approved</td>\n      <td>gene with protein product</td>\n      <td>BSCL</td>\n      <td>LPAAT-beta</td>\n      <td>9q34.3</td>\n      <td>10555.0</td>\n      <td>ENSG00000169692</td>\n      <td>OTTHUMG00000020936</td>\n      <td>46</td>\n      <td>1-acylglycerol-3-phosphate O-acyltransferases</td>\n    </tr>\n    <tr>\n      <th>4</th>\n      <td>HGNC:326</td>\n      <td>AGPAT3</td>\n      <td>1-acylglycerol-3-phosphate O-acyltransferase 3</td>\n      <td>Approved</td>\n      <td>gene with protein product</td>\n      <td>NaN</td>\n      <td>LPAAT-gamma, LPAAT3</td>\n      <td>21q22.3</td>\n      <td>56894.0</td>\n      <td>ENSG00000160216</td>\n      <td>OTTHUMG00000086892</td>\n      <td>46</td>\n      <td>1-acylglycerol-3-phosphate O-acyltransferases</td>\n    </tr>\n  </tbody>\n</table>\n</div>",
      "text/plain": [
       "      HGNC ID Approved symbol                                   Approved name  \\\n",
       "0    HGNC:324          AGPAT1  1-acylglycerol-3-phosphate O-acyltransferase 1   \n",
       "1  HGNC:25718          LPCAT1       lysophosphatidylcholine acyltransferase 1   \n",
       "2  HGNC:26032          LPCAT2       lysophosphatidylcholine acyltransferase 2   \n",
       "3    HGNC:325          AGPAT2  1-acylglycerol-3-phosphate O-acyltransferase 2   \n",
       "4    HGNC:326          AGPAT3  1-acylglycerol-3-phosphate O-acyltransferase 3   \n",
       "\n",
       "     Status                 Locus type Previous symbols  \\\n",
       "0  Approved  gene with protein product              NaN   \n",
       "1  Approved  gene with protein product            AYTL2   \n",
       "2  Approved  gene with protein product            AYTL1   \n",
       "3  Approved  gene with protein product             BSCL   \n",
       "4  Approved  gene with protein product              NaN   \n",
       "\n",
       "                  Alias symbols Chromosome  NCBI Gene ID  Ensembl gene ID  \\\n",
       "0                   LPAAT-alpha    6p21.32       10554.0  ENSG00000204310   \n",
       "1     FLJ12443, AGPAT9, AGPAT10    5p15.33       79888.0  ENSG00000153395   \n",
       "2  FLJ20481, AGPAT11, LysoPAFAT    16q12.2       54947.0  ENSG00000087253   \n",
       "3                    LPAAT-beta     9q34.3       10555.0  ENSG00000169692   \n",
       "4           LPAAT-gamma, LPAAT3    21q22.3       56894.0  ENSG00000160216   \n",
       "\n",
       "         Vega gene ID  Group ID                                     Group name  \n",
       "0  OTTHUMG00000031210        46  1-acylglycerol-3-phosphate O-acyltransferases  \n",
       "1  OTTHUMG00000131017        46  1-acylglycerol-3-phosphate O-acyltransferases  \n",
       "2  OTTHUMG00000133238        46  1-acylglycerol-3-phosphate O-acyltransferases  \n",
       "3  OTTHUMG00000020936        46  1-acylglycerol-3-phosphate O-acyltransferases  \n",
       "4  OTTHUMG00000086892        46  1-acylglycerol-3-phosphate O-acyltransferases  "
      ]
     },
     "metadata": {},
     "execution_count": 7
    }
   ],
   "source": [
    "## Load HGNC gene family \n",
    "gene_family = pd.read_csv('datasets/Harmonizome/HGNC_gene_family.txt',sep='\\t')\n",
    "print gene_family.shape\n",
    "gene_family.head()"
   ]
  },
  {
   "cell_type": "code",
   "execution_count": null,
   "metadata": {},
   "outputs": [],
   "source": []
  },
  {
   "cell_type": "code",
   "execution_count": 10,
   "metadata": {
    "collapsed": false
   },
   "outputs": [
    {
     "output_type": "stream",
     "name": "stdout",
     "text": [
      "Long intergenic non-protein coding RNAs                 2189\nAntisense RNAs                                          1584\nMicroRNAs                                               1466\nMicroRNA protein coding host genes                       846\nZinc fingers C2H2-type                                   720\nSolute carriers                                          433\nCytoplasmic transfer RNAs                                428\nCD molecules                                             394\nLong non-coding RNAs with non-systematic symbols         381\nSmall nucleolar RNAs, C/D box                            355\nRing finger proteins                                     305\nWD repeat domain containing                              274\nDivergent transcripts                                    267\nArmadillo like helical domain containing                 244\nAnkyrin repeat domain containing                         222\nEF-hand domain containing                                219\nRNA binding motif containing                             213\nPleckstrin homology domain containing                    190\nImmunoglobulin heavy locus at 14q32.33                   188\nSmall nucleolar RNAs, H/ACA box                          182\nProtein phosphatase 1 regulatory subunits                181\nV-set domain containing                                  163\nI-set domain containing                                  161\nPDZ domain containing                                    152\nSmall nucleolar RNA protein coding host genes            145\nIntronic transcripts                                     143\nBTB domain containing                                    134\nOlfactory receptors, family 4                            133\nVomeronasal receptors                                    129\nFibronectin type III domain containing                   128\n                                                        ... \nOxoglutarate receptor                                      1\nMyosins, class X                                           1\nClass II Cys-based phosphatases                            1\nUbiquitin specific peptidase like                          1\nMitochondrially encoded long non-coding RNAs               1\nCMG helicase complex                                       1\nPlatelet activating factor receptor                        1\nCytochrome P450 family 19                                  1\nCytochrome P450 family 17                                  1\nMitochondrial sorting and assembly machinery complex       1\nZinc activated channels                                    1\nC-X-3-C motif chemokine receptors                          1\nCytochrome P450 family 5                                   1\nMyosins, class XIX                                         1\nLipid phosphatases                                         1\nZUP1 deubiquitinase                                        1\nUDP-glucose ceramide glucosyltransferases                  1\nMyosins, class VI                                          1\nOlfactory receptors, family 55                             1\nHydrogen voltage gated channels                            1\nCystatins, type 3                                          1\nChemerin receptor                                          1\nCytochrome P450 family 39                                  1\nCytochrome P450 family 20                                  1\nCytochrome P450 family 24                                  1\nSodium leak channels, non selective                        1\nX-C motif chemokine receptors                              1\nChloride channels, ATP-gated CFTR                          1\nSuccinate receptor                                         1\nRAN family GTPases                                         1\nName: Group name, Length: 1427, dtype: int64\n"
     ]
    }
   ],
   "source": [
    "print gene_family['Group name'].value_counts()"
   ]
  },
  {
   "cell_type": "code",
   "execution_count": null,
   "metadata": {},
   "outputs": [],
   "source": []
  },
  {
   "cell_type": "code",
   "execution_count": 13,
   "metadata": {
    "collapsed": false
   },
   "outputs": [
    {
     "output_type": "stream",
     "name": "stdout",
     "text": [
      "['6-phosphofructo-2-kinases/fructose-2,6-biphosphatases', 'A-kinase anchoring proteins', 'Abl family tyrosine kinases', 'Adenylate kinases', 'AGC family kinases', 'AKT kinases', 'C2 domain containing protein kinases', 'Calmodulin dependent protein kinases', 'CDC like kinases', 'CDK activating kinase complex', 'Csk family tyrosine kinases', 'Cyclin dependent kinases', 'Death associated protein kinases', 'Deoxyribonucleoside kinases', 'Diacylglycerol kinases', 'divergent protein kinase domain family', 'Erb-b2 receptor tyrosine kinases', 'Fes family tyrosine kinases', 'Glycerol kinases', 'Golgi associated kinase family', 'I kappa B kinases', 'Jak family tyrosine kinases', 'LIMK/TESK kinase family', 'MAP kinase phosphatases', 'MAPK activated protein kinases', 'Membrane associated guanylate kinases', 'Mitogen-activated protein kinase kinase kinase kinases', 'Mitogen-activated protein kinase kinase kinases', 'Mitogen-activated protein kinase kinases', 'Mitogen-activated protein kinases', 'MOB kinase activators', 'Myosin light chain kinase family', 'Pantothenate kinases', 'Phosphatidylinositol 3-kinase subunits', 'PI4KA lipid kinase complex', 'PTK2 family tyrosine kinases', 'PTK6 family tyrosine kinases', 'Receptor tyrosine kinases', 'SCY1 like pseudokinases', 'Src family tyrosine kinases', 'Syk family tyrosine kinases', 'Tec family tyrosine kinases', 'TNK family tyrosine kinases', 'Type 1 receptor serine/threonine kinases', 'Type 2 receptor serine/threonine kinases', 'WNK lysine deficient protein kinases']\n423\n"
     ]
    }
   ],
   "source": [
    "# Count kinases\n",
    "print filter(lambda x: 'kinase' in x.lower(), gene_family['Group name'].unique())\n",
    "print len(filter(lambda x: 'kinase' in x.lower(), gene_family['Group name']))"
   ]
  },
  {
   "cell_type": "code",
   "execution_count": 15,
   "metadata": {
    "collapsed": false
   },
   "outputs": [
    {
     "output_type": "stream",
     "name": "stdout",
     "text": [
      "['CREB3 transcription factor family', 'E2F transcription factors', 'ETS transcription factor family', 'Fos transcription factor family', 'General transcription factor IIA complex subunits', 'General transcription factor IID complex subunits ', 'General transcription factor IIE complex subunits', 'General transcription factor IIF complex subunits', 'General transcription factor IIH complex subunits', 'General transcription factor IIIB complex subunits ', 'General transcription factor IIIC complex subunits', 'General transcription factors', 'Jun transcription factor family', 'Runt-related transcription factors', 'Sp transcription factors', 'SRY-box transcription factors', 'T-box transcription factors', 'TCF/LEF transcription factor family', 'TEA domain transcription factors', 'Transcription factor Dp family']\n152\n"
     ]
    }
   ],
   "source": [
    "# Count TF\n",
    "print filter(lambda x: 'transcription factor' in x.lower(), gene_family['Group name'].unique())\n",
    "print len(filter(lambda x: 'transcription factor' in x.lower(), gene_family['Group name']))"
   ]
  },
  {
   "cell_type": "code",
   "execution_count": 18,
   "metadata": {
    "collapsed": false
   },
   "outputs": [
    {
     "output_type": "stream",
     "name": "stdout",
     "text": [
      "(29010, 1)\n(2776, 53)\n(3021, 54)\n"
     ]
    }
   ],
   "source": [
    "# Inner join with proteome data\n",
    "gene_family = gene_family[['Approved symbol', 'Group name']]\n",
    "gene_family.set_index('Approved symbol', inplace=True)\n",
    "print gene_family.shape\n",
    "\n",
    "proteome = proteome.drop(['UniprotAcc', 'GeneID/Brenda Tissue Ontology BTO:'], axis=1)\n",
    "proteome.set_index('GeneSym', inplace=True)\n",
    "print proteome.shape\n",
    "\n",
    "proteome = proteome.merge(gene_family, left_index=True, right_index=True, how='inner')\n",
    "print proteome.shape"
   ]
  },
  {
   "cell_type": "code",
   "execution_count": 19,
   "metadata": {
    "collapsed": false
   },
   "outputs": [
    {
     "output_type": "stream",
     "name": "stdout",
     "text": [
      "Index([u'38', u'675', u'1615', u'568', u'2806', u'1938', u'18', u'4860',\n       u'200001', u'200005', u'3884', u'3323', u'1939', u'2178', u'200004',\n       u'1961', u'200002', u'1908', u'200003', u'179', u'4189', u'2696',\n       u'599', u'1321', u'7', u'93', u'975', u'773', u'200043', u'1008',\n       u'661', u'567', u'1890', u'269', u'200034', u'200045', u'2805', u'1061',\n       u'664', u'562', u'1175', u'759', u'988', u'1158', u'1363', u'1078',\n       u'763', u'2553', u'1129', u'776', u'289', u'2417', u'914'],\n      dtype='object')\n54 (3021,) (3021, 53)\n"
     ]
    }
   ],
   "source": [
    "# Split X and y\n",
    "X = proteome.drop(['Group name'], axis=1)\n",
    "print X.columns\n",
    "X = X.values\n",
    "y = proteome['Group name']\n",
    "y = map(lambda x: 'kinase' in x.lower(), y)\n",
    "y = np.array(y, dtype=np.int64)\n",
    "print y.sum(), y.shape, X.shape\n"
   ]
  }
 ],
 "metadata": {
  "kernelspec": {
   "display_name": "Python 2",
   "language": "python",
   "name": "python2"
  },
  "language_info": {
   "codemirror_mode": {
    "name": "ipython",
    "version": 2
   },
   "file_extension": ".py",
   "mimetype": "text/x-python",
   "name": "python",
   "nbconvert_exporter": "python",
   "pygments_lexer": "ipython2",
   "version": "2.7.18-final"
  }
 },
 "nbformat": 4,
 "nbformat_minor": 0
}